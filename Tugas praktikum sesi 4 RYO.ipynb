{
 "cells": [
  {
   "cell_type": "markdown",
   "metadata": {},
   "source": [
    "<h1>Praktikum Variabel & Tipe Data</h1>\n",
    "\n",
    "<h3>Soal 1</h3>\n",
    "Kiki belanja ke alf$$a M$a$r$t membeli 3 hepitos, 2 silperkuin, telor 2kg, beras 5kg, isi ulang akua galon seharga Rp 13.000. Harga hepitos yaitu Rp 15.000, telor Rp 13.000/kg, silperkuin Rp 21.000 beras kemasan 2.5kg seharga Rp 20.000. Toko tersebut memberikan discount 5%, ketika customer membeli makanan lebih dari 3 jenis. Berapakah total bayar belanjaan dari Kiki?\n"
   ]
  },
  {
   "cell_type": "markdown",
   "metadata": {},
   "source": [
    "<h1>Analyze Here</h1>\n",
    "....."
   ]
  },
  {
   "cell_type": "code",
   "execution_count": 10,
   "metadata": {},
   "outputs": [
    {
     "name": "stdout",
     "output_type": "stream",
     "text": [
      "Total Harga Belanja : 226000.0\n",
      "Harga Setelah Discound : 11300.0\n",
      "Total Belanja Di Bayar : 214700.0\n"
     ]
    }
   ],
   "source": [
    "#Code here\n",
    "a = hepitos = 15000 * 3\n",
    "b = silperkuin = 21000 * 2\n",
    "c = telor = 13000 * 2\n",
    "d = beras = 20000 * 2.5 * 2\n",
    "e = galon = 13000\n",
    "\n",
    "totalharga = a + b + c + d + e\n",
    "\n",
    "discound = totalharga * 0.05\n",
    "\n",
    "hasil_discound = totalharga - discound\n",
    "\n",
    "print (\"Total Harga Belanja :\",totalharga)\n",
    "print (\"Harga Setelah Discound :\",discound)\n",
    "print (\"Total Belanja Di Bayar :\",hasil_discound)"
   ]
  },
  {
   "cell_type": "markdown",
   "metadata": {},
   "source": [
    "<h3>Soal 2</h3>\n",
    "Roni menabung pada bulan agustus yaitu setiap tanggal ganjil sejumlah Rp 50.000, setiap tanggal genap sejumlah RP 10.000 dan setiap tanggal kelipatan 5 sejumlah Rp 5.000, Berapakah total tabungan Roni diakhir bulan?"
   ]
  },
  {
   "cell_type": "markdown",
   "metadata": {},
   "source": [
    "<h1>Analyze Here</h1>\n",
    "....."
   ]
  },
  {
   "cell_type": "code",
   "execution_count": 11,
   "metadata": {},
   "outputs": [
    {
     "name": "stdout",
     "output_type": "stream",
     "text": [
      "Jumlah Tabungan Selama Agustus : 800000\n"
     ]
    }
   ],
   "source": [
    "#Code here\n",
    "total_hari = 31\n",
    "total_tabungan = 0\n",
    "\n",
    "tanggal = 1\n",
    "while (tanggal <= total_hari) :\n",
    "\n",
    "     if (tanggal % 5 == 0):\n",
    "         total_tabungan += 5000\n",
    "     elif (tanggal % 2 != 0):\n",
    "         total_tabungan += 50000\n",
    "     else :\n",
    "         total_tabungan += 10000\n",
    "\n",
    "     tanggal += 1\n",
    "\n",
    "print (\"Jumlah Tabungan Selama Agustus :\",total_tabungan)"
   ]
  },
  {
   "cell_type": "markdown",
   "metadata": {},
   "source": [
    "<h3>Soal 3</h3>\n",
    "Saat hari raya, Deni ingin menukarkan uang sejumlah Rp 5.000.000 ke pecahan 20rb, 10rb, 5rb, 2rb. berapa jumlahnya yang didapatkan Deni jika 20rb maksimal 100, 10rb maksimal 50.Jika :\n",
    "<ol>\n",
    "    <li>3(a)Semua pecahan harus ada</li>\n",
    "    <li>3(b)Hanya pecahan 20rb, 10rb dan 5rb</li>\n",
    "    <li>3(c)Hanya pecahan 20rb, 10rb dan 2rb</li>\n",
    "</ol>"
   ]
  },
  {
   "cell_type": "markdown",
   "metadata": {},
   "source": [
    "<h1>Analyze Here</h1>\n",
    "....."
   ]
  },
  {
   "cell_type": "code",
   "execution_count": 4,
   "metadata": {},
   "outputs": [
    {
     "name": "stdout",
     "output_type": "stream",
     "text": [
      "SEMUA PECAHAN HARUS ADA\n",
      "100 Lembar 20 Ribu : 2000000\n",
      "50 Lembar 10 RB : 500000\n",
      "400 Lembar 5 RB : 2000000\n",
      "250 Lembar 2 RB : 500000\n",
      "HANYA PECAHAN 20RB 10RB DAN 5RB\n",
      "100 Lembar 20RB : 2000000\n",
      "50 Lembar 10RB : 500000\n",
      "500 Lembar 5RB : 2000000\n",
      "Harga Yang Herus Di Bayar : 5000000\n",
      "HANYA PECAHAN 20RB, 10RB DAN 2RB\n",
      "100 Lembar 20RB : 2000000\n",
      "50 Lembar 10RB : 500000\n",
      "1250 Lembar 2RB : 2500000\n",
      "Harga Yang Harus Di Bayarkan : 5000000\n"
     ]
    }
   ],
   "source": [
    "#Code here\n",
    "# A\n",
    "\n",
    "pecahan_20 = 20_000 * 100\n",
    "pecahan_10 = 10_000 * 50\n",
    "pecahan_5 = 5000 * 400\n",
    "pecahan_2 = 2000 * 250\n",
    "\n",
    "Total_3_A = pecahan_20 + pecahan_10 + pecahan_5 + pecahan_2\n",
    "\n",
    "print(\"SEMUA PECAHAN HARUS ADA\")\n",
    "print(\"100 Lembar 20 Ribu :\",pecahan_20)\n",
    "print(\"50 Lembar 10 RB :\",pecahan_10)\n",
    "print(\"400 Lembar 5 RB :\",pecahan_5)\n",
    "print(\"250 Lembar 2 RB :\",pecahan_2)\n",
    "\n",
    "#B\n",
    "\n",
    "pecahan_20 = 20_000 * 100\n",
    "pecahan_10 = 10_000 * 50\n",
    "pecahan_5 = 5000 * 400\n",
    "pecahan_2 = 2000 * 250\n",
    "rupiah_5_2 = 5000 * 500\n",
    "\n",
    "Total_3_B = pecahan_20 + pecahan_10 + rupiah_5_2\n",
    "\n",
    "print(\"HANYA PECAHAN 20RB 10RB DAN 5RB\")\n",
    "print(\"100 Lembar 20RB :\",pecahan_20)\n",
    "print(\"50 Lembar 10RB :\",pecahan_10)\n",
    "print(\"500 Lembar 5RB :\",pecahan_5)\n",
    "print(\"Harga Yang Herus Di Bayar :\",Total_3_B)\n",
    "\n",
    "#C\n",
    "\n",
    "pecahan_20 = 20_000 * 100\n",
    "pecahan_10 = 10_000 * 50\n",
    "pecahan_5 = 5000 * 400\n",
    "pecahan_2 = 2000 * 250\n",
    "rupiah_2_2 = 2000 * 1250\n",
    "\n",
    "Total_3_C = pecahan_20 + pecahan_10 + rupiah_2_2\n",
    "\n",
    "print(\"HANYA PECAHAN 20RB, 10RB DAN 2RB\")\n",
    "print(\"100 Lembar 20RB :\",pecahan_20)\n",
    "print(\"50 Lembar 10RB :\",pecahan_10)\n",
    "print(\"1250 Lembar 2RB :\",rupiah_2_2)\n",
    "print(\"Harga Yang Harus Di Bayarkan :\",Total_3_C)"
   ]
  },
  {
   "cell_type": "markdown",
   "metadata": {},
   "source": [
    "<h3>Soal 4</h3>\n",
    "Berapakah hasil dari (10/23-6+4-(20//3%2)) ?\n",
    "Lakukan analisa perhitungan dari hasil tersebut!\n",
    "Berdasarkan hasil tersebut urutkan operator yang dikerjakan!"
   ]
  },
  {
   "cell_type": "markdown",
   "metadata": {},
   "source": [
    "<h1>Analyze Here</h1>\n",
    "....."
   ]
  },
  {
   "cell_type": "code",
   "execution_count": 7,
   "metadata": {},
   "outputs": [
    {
     "name": "stdout",
     "output_type": "stream",
     "text": [
      "hasil dari (10/23-6+4-(20//3%2)) = -1.5652173913043477\n",
      "hasil analisa\n",
      "1. terdapat oprator bagi dan kurang = 10/23 - 6 = -5.565217391304348\n",
      "2. terdapat oprator pembagian pembulatan dan bagi = 4-(20//3%2) 4\n",
      "HASIL SETELAH DI TAMBAHKAN : -1.5652173913043477\n"
     ]
    }
   ],
   "source": [
    "#Code here\n",
    "hasil = (10/23-6+4-(20//3%2))\n",
    "print(\"hasil dari (10/23-6+4-(20//3%2)) =\",hasil)\n",
    "print(\"hasil analisa\")\n",
    "\n",
    "oprator_bagi_kurang = 10/23-6\n",
    "oprator_bagi_sisabagi = 4-(20//3%2)\n",
    "\n",
    "print(\"1. terdapat oprator bagi dan kurang = 10/23 - 6 =\",oprator_bagi_kurang)\n",
    "print(\"2. terdapat oprator pembagian pembulatan dan bagi = 4-(20//3%2)\",oprator_bagi_sisabagi)\n",
    "print(\"HASIL SETELAH DI TAMBAHKAN :\",oprator_bagi_kurang + oprator_bagi_sisabagi)\n"
   ]
  },
  {
   "cell_type": "markdown",
   "metadata": {},
   "source": [
    "<h3>Soal 5</h3>\n",
    "Jika terdapat string yaitu \"UFLOPYXTKJACSWRBGQZVDMEHIN\", maka susunlah nama kalian masing-masing dari data tersebut, berdasarkan index dari masing-masing huruf yang ada pada string tersebut!\n"
   ]
  },
  {
   "cell_type": "markdown",
   "metadata": {},
   "source": [
    "<h1>Analyze Here</h1>\n",
    "....."
   ]
  },
  {
   "cell_type": "code",
   "execution_count": 4,
   "metadata": {},
   "outputs": [
    {
     "name": "stdout",
     "output_type": "stream",
     "text": [
      "14 5 3\n",
      "RYO\n"
     ]
    }
   ],
   "source": [
    "huruf = str('UFLOPYXTKJACSWRBGQZVDMEHIN')\n",
    "nama = \"RYO\"\n",
    "print (huruf.find('R'),huruf.find('Y'),huruf.find('O'))\n",
    "print(huruf[14]+huruf[5]+huruf[3])\n"
   ]
  },
  {
   "cell_type": "code",
   "execution_count": null,
   "metadata": {},
   "outputs": [],
   "source": []
  }
 ],
 "metadata": {
  "kernelspec": {
   "display_name": "Python 3 (ipykernel)",
   "language": "python",
   "name": "python3"
  },
  "language_info": {
   "codemirror_mode": {
    "name": "ipython",
    "version": 3
   },
   "file_extension": ".py",
   "mimetype": "text/x-python",
   "name": "python",
   "nbconvert_exporter": "python",
   "pygments_lexer": "ipython3",
   "version": "3.9.12"
  }
 },
 "nbformat": 4,
 "nbformat_minor": 4
}
